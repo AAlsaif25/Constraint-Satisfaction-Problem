{
 "cells": [
  {
   "cell_type": "markdown",
   "metadata": {},
   "source": [
    "**Submitted By :**\n",
    "- Abdulaziz Saad Alsaif 438010515\n",
    "- Abdulrahman Almesher 439023898\n",
    "- Bassam AL Taleb 438031815\n",
    "\n",
    "**Supervisor :**\n",
    "- Dr.Omar Alaql"
   ]
  },
  {
   "cell_type": "markdown",
   "metadata": {},
   "source": [
    "# Introduction :\n",
    "\n",
    "In this project we will be showing how to solve the game Sudoku problem in Python code. we will be using two algorithms in Constraint Satisfaction Problems which are Arc Consistency AC-3 and Backtracking with AC-3. Our objective in this project is to help you understand the CSPs problems with an example and make it clear for you. We first started with explaining the problem which is the Sudoku game and how the game suppose to work and the game constraints that you have to follow. After that, we explained the Arc Consistency AC-3 algorithm, when and how to use it, then we applied it in the code and show the result. Finally, we showed the Backtracking with AC-3 algorithm, when and how to use it, then we applied it in the code.\n",
    "\n",
    "# المقدمة:\n",
    "\n",
    "في هذا المشروع ستظهر كيفية حل مشكلة لعبة Sudoku، وسوف نحلها باستخدام لغة البايثون (python). سوف نستخدم لحل هذه المشكلة خوارزميتان في CSP الا وهما Arc Consistency AC-3 و Backtracking with AC-3. هدفنا في هذا المشروع هو مساعدتك في فهم مشاكل CSP مع مثال لتكون واضحة. في البداية، بدأنا بشرح المشكلة وكيفية عمل اللعبة و شروط وقيود اللعبة التي يجيب التقيد بها. بعد ذلك، شرحنا خوارزمية Arc Consistency AC-3 متى وكيف يجب استخدامها، ثم طبقناها على الكود واظهرنا النتائج. في النهاية، شرحنا خوارزمية backtracking with AC-3 ، متى وكيف نستخدمها ثم طبقناها على الكود.\n",
    "\n"
   ]
  },
  {
   "cell_type": "markdown",
   "metadata": {},
   "source": [
    "# Example problem"
   ]
  },
  {
   "cell_type": "markdown",
   "metadata": {},
   "source": [
    "For our example problem we went with Sudoku game\n",
    "\n",
    "\n",
    "Number of Varabiles is (81) one for each cell\n",
    "\n",
    "Domain is {1,2,3,4,5,6,7,8,9} for each Varabiles\n",
    "\n",
    "The game consists of a grid of 9x9 cells,\n",
    "divided in 9 boxes of size 3x3, which have to be filled\n",
    "with numbers from 1 to 9. The constraints by which\n",
    "the numbers can be placed are as follows:\n",
    "\n",
    "\n",
    "\n",
    "1-Each column, row, and box must contain the numbers 1 to 9.\n",
    "\n",
    "2-No column, row, or box may contain the same number multiple times.\n",
    " \n",
    "\n",
    "مثال  للمشكلة لعبة سودوكو\n",
    "\n",
    "عدد المتغيرات (81) متغير واحد لكل خلية\n",
    "\n",
    "المجال هو {1،2،3،4،5،6،7،8،9} لكل متغير\n",
    "\n",
    "\n",
    "اللعبة تحتوي على شبكة مكونه من ٩ في ٩ خليات.\n",
    "نقوم بقسم ٩ صناديق بحجم ٣ في ٣، ويجب ان تكون معباة بارقام من ١ - ٩ .\n",
    "القيود يجب ان تكون كالاتي:\n",
    "\n",
    "١- لكل عمود، صف و صندوق يجب ان يحتوي على الارقام من ١-٩.\n",
    "\n",
    "٢- لا يجب ان يحتوب العموداو الصف او الصندوق على ارقام متشابهه اكثر من مره واحدة.\n",
    "\n",
    "![image info](./example.png)\n",
    "![image info](./s.png)"
   ]
  },
  {
   "cell_type": "markdown",
   "metadata": {},
   "source": [
    "## Enter sudoku grid to solve (Optional)"
   ]
  },
  {
   "cell_type": "code",
   "execution_count": 30,
   "metadata": {},
   "outputs": [
    {
     "name": "stdout",
     "output_type": "stream",
     "text": [
      "Please enter 81 sudoku grid to solve or you can use one of the following grids : \n",
      " 1=000079065000003002005060093340050106000000000608020059950010600700600000820390000,\n",
      " 2=102004070000902800009003004000240006000107000400068000200800700007501000080400109, \n",
      " 3=002008050000040070480072000008000031600080005570000600000960048090020000030800900102004070000902800009003004000240006000107000400068000200800700007501000080400109\n"
     ]
    }
   ],
   "source": [
    "\n",
    "sudokuGrid = input(\"Please enter 81 sudoku grid to solve or you can use one of the following grids : \\n 1=000079065000003002005060093340050106000000000608020059950010600700600000820390000,\\n 2=102004070000902800009003004000240006000107000400068000200800700007501000080400109, \\n 3=002008050000040070480072000008000031600080005570000600000960048090020000030800900\")\n"
   ]
  },
  {
   "cell_type": "markdown",
   "metadata": {},
   "source": [
    "# Algorithms"
   ]
  },
  {
   "cell_type": "markdown",
   "metadata": {},
   "source": [
    "## Arc Consistency AC-3\n",
    "* Explanation\n",
    "\n",
    "\n",
    "We can represent the AC-3 algorithm in 3 steps:\n",
    "Get all the constraints and turn each one into two arcs. For example: \n",
    "𝐴 > 𝐵 becomes 𝐴 > 𝐵 and 𝐵 < 𝐴.\n",
    "Add all the arcs to a queue.\n",
    "Repeat until the queue is empty:\n",
    "Take the first arc (𝑥, 𝑦), off the queue (dequeue).\n",
    "For every value in the 𝑥 domain, there must be some value of the 𝑦 domain.\n",
    "Make 𝑥 arc consistent with 𝑦. To do so, remove values from 𝑥 domain for which there is no possible corresponding value for 𝑦 domain.\n",
    "\n",
    "\n",
    "يمكننا تمثيل خوارزمية AC-3 في 3 خطوات:\n",
    "الحصول على جميع القيود وتحويل كل واحد إلى اثنين من الأقواس.على سبيل المثال:\n",
    "𝐴> 𝐵 يصبح (𝐴> 𝐵) و (𝐵 <𝐴).\n",
    "إضافة جميع الأقواس إلى قائمة الانتظار.\n",
    "كرر حتى تكون قائمة الانتظار فارغة:\n",
    "خذ أول قوس (𝑥، 𝑦)، خارج قائمة الانتظار .\n",
    "لكل قيمة في مجال 𝑥، يجب أن يكون هناك بعض قيمة المجال 𝑦.\n",
    "جعل 𝑥 قوس ثابت مع 𝑦.للقيام بذلك، قم بإزالة القيم من مجال 𝑥 لم يكن هناك قيمة صالحة محتملة للنطاق 𝑦.\n",
    "إذا تغير مجال 𝑥، أضف جميع الأقواس من النموذج (𝑘، 𝑥) إلى قائمة الانتظار .هنا هو متغير آخر يختلف عن 𝑦 به علاقة\n",
    "\n"
   ]
  },
  {
   "cell_type": "markdown",
   "metadata": {},
   "source": [
    "* Implementation of Arc Consistency AC-3"
   ]
  },
  {
   "cell_type": "code",
   "execution_count": 37,
   "metadata": {},
   "outputs": [],
   "source": [
    "from utils import is_different\n",
    "from sudoku import Sudoku\n",
    "import datetime\n",
    "\n",
    "#if the user did not put input in the above cell\n",
    "#إذا لم يدخل المستخدم مدخلات في الخلية أعلاه\n",
    "try: sudokuGrid\n",
    "except NameError: \n",
    "    sudokuGrid=\"000079065000003002005060093340050106000000000608020059950010600700600000820390000\"\n",
    "\n",
    "#start of Arc Consistency AC-3 algorthim \n",
    "#Arc Consistency AC-3 بداية خوارزمية \n",
    "def AC3(csp):\n",
    "\n",
    "    #Queue to list all the csp constraints\n",
    "    #اضافة جميع الشروط الى طابور\n",
    "    queue = list(csp.binary_constraints)\n",
    "    \n",
    "\n",
    "    while queue:\n",
    "        #For each constrainnt pop to remove inconsistent values\n",
    "        #لكل شرط قم باخراج الشروط بالترتيب وحذف البيانات المتعارضه \n",
    "        (xi, xj) = queue.pop(0)\n",
    "       \n",
    "        if remove_inconsistent_values(csp, xi, xj): \n",
    "\n",
    "            # if a cell has 0 possibilities, sudoku has no solution\n",
    "            # في حالة وجود خلية بدون اي احتمالات فاللعبة ليس لها حل\n",
    "            if len(csp.possibilities[xi]) == 0:\n",
    "                return False\n",
    "            #اضافة الشروط الجديدة بعد التعديل\n",
    "            for Xk in csp.related_cells[xi]:\n",
    "                if Xk != xi:\n",
    "                    queue.append((Xk, xi))\n",
    "                \n",
    "    return True\n",
    "\n",
    "#returns true if inconsistent values has been removed\n",
    "#ارجاع صحيح في حال تم حذف قيمة متعارضة\n",
    "def remove_inconsistent_values(csp, cell_i, cell_j):\n",
    "\n",
    "    removed = False\n",
    "\n",
    "    # for each possible value remaining for the cell_i cell\n",
    "    #لكل قيمة ممكنة متبقية لخلية cell_i\n",
    "    for value in csp.possibilities[cell_i]:\n",
    "\n",
    "        # if cell_i=value is in conflict with cell_j=possibility for each possibility\n",
    "        ## إذا كانت قيمة cell_i تتعارض مع cell_j إمكانية لكل احتمال\n",
    "        if not any([is_different(value, poss) for poss in csp.possibilities[cell_j]]):\n",
    "            \n",
    "            # then remove cell_i=value\n",
    "            # قم بحذف قيمة cell_i من الاحتمالات الموجوده\n",
    "            csp.possibilities[cell_i].remove(value)\n",
    "            removed = True\n",
    "\n",
    "    # returns true if inconsistent VaLUE has been removed  \n",
    "    # قم بارجاع صحيح في حال تم حذف قيمة متعارضه\n",
    "    return removed"
   ]
  },
  {
   "cell_type": "markdown",
   "metadata": {},
   "source": [
    "* Applying and Testing the algorithm on the problem "
   ]
  },
  {
   "cell_type": "code",
   "execution_count": 44,
   "metadata": {},
   "outputs": [
    {
     "name": "stdout",
     "output_type": "stream",
     "text": [
      "AC3 finished, There is a solution to this Sudoku\n"
     ]
    }
   ],
   "source": [
    "sudoku=Sudoku(sudokuGrid)\n",
    "AC3_result = AC3(sudoku)\n",
    "\n",
    "    #Check if the providid has no solution Sudoku has no solution\n",
    "    #في حالة عدم وجود حل للعبة\n",
    "if not AC3_result:\n",
    "    print(\"this sudoku has no solution\")\n",
    "else:\n",
    "    \n",
    "        print(\"AC3 finished, There is a solution to this Sudoku\")"
   ]
  },
  {
   "cell_type": "markdown",
   "metadata": {},
   "source": [
    "## Backtracking with AC-3\n",
    "\n",
    "* Explanation\n",
    "\n",
    "\n",
    "The backtracking algorithm, is an algorithm that trace accurately the problem, which is mean the user when he/she uses this algorithm as we did in any kind of problems or games, it works as follows:\n",
    "1-in any game the user uses this algorithm, when ever he/she steps forword with out any problem here the backtracking does not do anything.\n",
    "2-if the user faced any problem, here the algorithm tries to solve the problem by back trace the game and tries to look for the problem and tries to solve it, after that it keeps moving forwrord until the user finish the game without any problems.\n",
    "\n",
    "التتبع الخلفي هي خوارزمية تتبع الخطوات بدقة بحيث ان المستخدم اذا استخدم هذه الخوارزمية في لعبة معينة يجب ان تكون الطريقة كالاتي:\n",
    "في اي لعبة يستخدمها الشخص ، اذا تقدم خطوة وتقدم خطوة اخرئ من غير مشاكل ، هنا يتم من غير تدخل الخوارزمية.\n",
    "اذا واجة الشخص المستخدم للعبة مشكلة بعد تخطية اكثر خطوة، من هنا تبدا الخوارزمية بالتدخل وحل المشكلة الا وهيا تتبع من الخلف وتحاول ان تبحث عن الخلل او المشكلة المسببة للعطل، ثم تقوم بحلها والاستمرار بهاذا النمط.\n",
    "\n",
    "\n",
    "![image info](./backTracking.gif)\n"
   ]
  },
  {
   "cell_type": "markdown",
   "metadata": {},
   "source": [
    "* Implementation of Backtracking"
   ]
  },
  {
   "cell_type": "code",
   "execution_count": 45,
   "metadata": {},
   "outputs": [],
   "source": [
    "import datetime\n",
    "from heuristics import most_constrained_variable, Least_Constraining_Value\n",
    "from utils import is_consistent, assign, unassign\n",
    "from sudoku import Sudoku\n",
    "\n",
    "\n",
    "#خوارزمية backtrack\n",
    "def backtrack(assignment, sudoku):\n",
    "\n",
    "    # if assignment is complete then return assignment\n",
    "    # في حالة تم تعبئة جميع الخلايا بارقام قم بارجاع القيم المسنده\n",
    "    if len(assignment) == len(sudoku.cells):\n",
    "        return assignment\n",
    "\n",
    "    \n",
    "    #Choose the variable with the fewest legal left values in its domain\n",
    "    #اختر المتغير الذي يحتوي على أقل عدد من القيم المتبقية القانونية في المجال الخاص به\n",
    "    cell = most_constrained_variable(assignment, sudoku)\n",
    "\n",
    "    \n",
    "    #choose the least constraining value\n",
    "    #اختر القيمة الأقل تقييدا\n",
    "    for value in Least_Constraining_Value(sudoku, cell):\n",
    "\n",
    "        # if value is consistent with assignment\n",
    "        #إذا كانت القيمة متوافقة مع الاسناد\n",
    "        if is_consistent(sudoku, assignment, cell, value):\n",
    "\n",
    "            # add cell = value to assignment\n",
    "            #إضف القيمة للخلية \n",
    "            assign(sudoku, cell, value, assignment)\n",
    "\n",
    "           \n",
    "            #recuersive code call\n",
    "            #استدعاء كود متكرر\n",
    "            result = backtrack(assignment, sudoku)\n",
    "\n",
    "            # if result is not a failure return result\n",
    "            #إذا كانت النتيجة ليست نتيجة إرجاع فشل\n",
    "            if result:\n",
    "                return result\n",
    "\n",
    "            # if the result is a failure unassign the value and backtrack\n",
    "            #إذا كانت النتيجة هي فشل ، فقم بإلغاء تعيين القيمة والتراجع\n",
    "            unassign(sudoku, cell, assignment)\n",
    "   \n",
    "    # return failure\n",
    "    return False"
   ]
  },
  {
   "cell_type": "markdown",
   "metadata": {},
   "source": [
    "* Testing BackTracking With AC-3\n"
   ]
  },
  {
   "cell_type": "code",
   "execution_count": 46,
   "metadata": {},
   "outputs": [
    {
     "name": "stdout",
     "output_type": "stream",
     "text": [
      "Solution: \n",
      "[1][5][2][6][8][4][9][7][3]\n",
      "[3][7][4][9][5][2][8][6][1]\n",
      "[8][6][9][7][1][3][2][5][4]\n",
      "[7][9][8][2][4][5][3][1][6]\n",
      "[6][3][5][1][9][7][4][8][2]\n",
      "[4][2][1][3][6][8][5][9][7]\n",
      "[2][1][6][8][3][9][7][4][5]\n",
      "[9][4][7][5][2][1][6][3][8]\n",
      "[5][8][3][4][7][6][1][2][9]\n",
      "\n",
      "executing time = 22.939 ms\n"
     ]
    }
   ],
   "source": [
    "sudoku=Sudoku(sudokuGrid)\n",
    "\n",
    "\n",
    "assignment = {}\n",
    "\n",
    "# Assign all already known values to assignment \n",
    "# اسناد البيانات الموجوده مسبقا للخلايا المقابله لها\n",
    "\n",
    "for cell in sudoku.cells:\n",
    "\n",
    "    if len(sudoku.possibilities[cell]) == 1:\n",
    "        assignment[cell] = sudoku.possibilities[cell][0]\n",
    "        \n",
    "start_time = datetime.datetime.now()\n",
    "\n",
    "#Start AC-3\n",
    "#بدء خوارزمية AC-3\n",
    "\n",
    "\n",
    "AC3_result = AC3(sudoku)\n",
    "\n",
    "# start backtracking\n",
    "#بدء خوارزمية backtracking\n",
    "\n",
    "assignment = backtrack(assignment, sudoku)\n",
    "\n",
    "# merge the computed values for the cells at one place   \n",
    "#دمج القيم المحسوبة من الخوارزمية في الخلايا\n",
    "for cell in sudoku.possibilities:\n",
    "    sudoku.possibilities[cell] = assignment[cell] if len(\n",
    "                    cell) > 1 else sudoku.possibilities[cell]\n",
    "\n",
    "\n",
    "end_time = datetime.datetime.now()\n",
    "\n",
    "time_diff = (end_time - start_time)\n",
    "execution_time0 = time_diff.total_seconds() * 1000\n",
    "\n",
    "#if all the cells has been assigned print the solution\n",
    "#إذا تم تعيين جميع الخلايا ، قم بطباعة الحل\n",
    "if assignment:\n",
    "    print(\"Solution: \\n{}\".format(sudoku))\n",
    "    print(\"executing time = {} ms\".format(execution_time0))\n",
    "\n",
    "else:\n",
    "    print(\"No solution exists\")\n"
   ]
  },
  {
   "cell_type": "markdown",
   "metadata": {},
   "source": [
    "## Backtracking only\n",
    "* Testing BackTracking only"
   ]
  },
  {
   "cell_type": "code",
   "execution_count": 47,
   "metadata": {},
   "outputs": [
    {
     "name": "stdout",
     "output_type": "stream",
     "text": [
      "Solution: \n",
      "[1][5][2][6][8][4][9][7][3]\n",
      "[3][7][4][9][5][2][8][6][1]\n",
      "[8][6][9][7][1][3][2][5][4]\n",
      "[7][9][8][2][4][5][3][1][6]\n",
      "[6][3][5][1][9][7][4][8][2]\n",
      "[4][2][1][3][6][8][5][9][7]\n",
      "[2][1][6][8][3][9][7][4][5]\n",
      "[9][4][7][5][2][1][6][3][8]\n",
      "[5][8][3][4][7][6][1][2][9]\n",
      "\n",
      "executing time = 562.003 ms\n"
     ]
    }
   ],
   "source": [
    "sudoku=Sudoku(sudokuGrid)\n",
    "assignment = {}\n",
    "\n",
    "# Assign all already known values to assignment \n",
    "# اسناد البيانات الموجوده مسبقا للخلايا المقابله لها\n",
    "\n",
    "for cell in sudoku.cells:\n",
    "\n",
    "    if len(sudoku.possibilities[cell]) == 1:\n",
    "        assignment[cell] = sudoku.possibilities[cell][0]\n",
    "start_time = datetime.datetime.now()\n",
    "# start backtracking\n",
    "#بدء خوارزمية backtracking\n",
    "assignment = backtrack(assignment, sudoku)\n",
    "\n",
    "# merge the computed values for the cells at one place   \n",
    "#دمج القيم المحسوبة من الخوارزمية في الخلايا\n",
    "for cell in sudoku.possibilities:\n",
    "    sudoku.possibilities[cell] = assignment[cell] if len(\n",
    "                    cell) > 1 else sudoku.possibilities[cell]\n",
    "\n",
    "\n",
    "end_time = datetime.datetime.now()\n",
    "\n",
    "time_diff = (end_time - start_time)\n",
    "execution_time1 = time_diff.total_seconds() * 1000\n",
    "\n",
    "#if all the cells has been assigned print the solution\n",
    "#إذا تم تعيين جميع الخلايا ، قم بطباعة الحل\n",
    "if assignment:\n",
    "    print(\"Solution: \\n{}\".format(sudoku))\n",
    "    print(\"executing time = {} ms\".format(execution_time1))\n",
    "\n",
    "else:\n",
    "    print(\"No solution exists\")"
   ]
  },
  {
   "cell_type": "markdown",
   "metadata": {},
   "source": [
    "## Executing time comparsion bettween backtracking with AC-3 and backtracking only"
   ]
  },
  {
   "cell_type": "code",
   "execution_count": 48,
   "metadata": {},
   "outputs": [
    {
     "name": "stdout",
     "output_type": "stream",
     "text": [
      "Executing time for backtracking with AC-3  = 22.939 ms\n",
      "Executing time for backtracking without AC-3   = 562.003 ms\n"
     ]
    }
   ],
   "source": [
    "print(\"Executing time for backtracking with AC-3  = {} ms\".format(execution_time0))\n",
    "print(\"Executing time for backtracking without AC-3   = {} ms\".format(execution_time1))"
   ]
  },
  {
   "cell_type": "markdown",
   "metadata": {},
   "source": [
    "# References and resources\n",
    "\n"
   ]
  },
  {
   "cell_type": "markdown",
   "metadata": {},
   "source": [
    "Refrences \n",
    "\n",
    "1-https://dfsxpertsys.com/downloads/ARAI-Sudoku-CSP-Bittner-Oosting2011.pdf\n",
    "2-https://github.com/stressGC/Python-AC3-Backtracking-CSP-Sudoku-Solver\n",
    "3-https://ar.wikipedia.org/wiki/%D8%A7%D9%84%D8%B1%D8%AC%D9%88%D8%B9_%D9%81%D9%8A_%D8%A7%D9%84%D8%B7%D8%B1%D9%8A%D9%82"
   ]
  }
 ],
 "metadata": {
  "kernelspec": {
   "display_name": "Python 3",
   "language": "python",
   "name": "python3"
  },
  "language_info": {
   "codemirror_mode": {
    "name": "ipython",
    "version": 3
   },
   "file_extension": ".py",
   "mimetype": "text/x-python",
   "name": "python",
   "nbconvert_exporter": "python",
   "pygments_lexer": "ipython3",
   "version": "3.8.5"
  }
 },
 "nbformat": 4,
 "nbformat_minor": 4
}
